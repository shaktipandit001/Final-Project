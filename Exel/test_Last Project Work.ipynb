import pandas as pd
import unittest

class TestJoinDataFrames(unittest.TestCase):
    def setUp(self):
        # Create sample dataframes
        self.sales = pd.DataFrame({'Mitarbeitername': ['John', 'Alice', 'Bob'],
                                   'Sales': [100, 200, 150]})
        self.df1 = pd.DataFrame({'Mitarbeitername': ['John', 'Alice', 'Bob'],
                                 'Department': ['Sales', 'Marketing', 'Finance']})

    def test_join_dataframes_success(self):
        # Call the code snippet
        if 'Mitarbeitername' in self.sales.columns and 'Mitarbeitername' in self.df1.columns:
            self.sales = self.sales.join(self.df1, on='Mitarbeitername', how='left')
        else:
            self.fail("Error: 'Mitarbeitername' column not found in either 'sales' or 'df1' DataFrame.")

        # Assert that the join was successful
        self.assertTrue('Department' in self.sales.columns)

    def test_join_dataframes_failure(self):
        # Modify the dataframes to simulate failure
        self.sales = self.sales.drop(columns='Mitarbeitername')
        self.df1 = self.df1.drop(columns='Mitarbeitername')

        # Call the code snippet
        if 'Mitarbeitername' in self.sales.columns and 'Mitarbeitername' in self.df1.columns:
            self.sales = self.sales.join(self.df1, on='Mitarbeitername', how='left')
        else:
            self.fail("Error: 'Mitarbeitername' column not found in either 'sales' or 'df1' DataFrame.")

        # Assert that the join failed
        self.assertFalse('Department' in self.sales.columns)

if __name__ == '__main__':
    unittest.main()