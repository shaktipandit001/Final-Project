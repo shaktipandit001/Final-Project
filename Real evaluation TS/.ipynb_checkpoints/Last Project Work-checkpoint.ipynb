{
 "cells": [
  {
   "cell_type": "markdown",
   "id": "b69091b1",
   "metadata": {},
   "source": [
    "## Lets Process Further"
   ]
  },
  {
   "cell_type": "code",
   "execution_count": 2,
   "id": "fdd13fab",
   "metadata": {},
   "outputs": [],
   "source": [
    "import pandas as pd\n",
    "import numpy as np\n",
    "import os\n",
    "import os.path\n",
    "import xlrd\n",
    "import xlsxwriter\n"
   ]
  },
  {
   "cell_type": "code",
   "execution_count": null,
   "id": "c29fd385",
   "metadata": {},
   "outputs": [],
   "source": [
    "df = pd.read_excel(\"new-statistic.xlsx\")"
   ]
  },
  {
   "cell_type": "code",
   "execution_count": 4,
   "id": "9e813168",
   "metadata": {},
   "outputs": [],
   "source": [
    "df1 = pd.read_excel(\"Arbeit-student-2023.xlsx\")"
   ]
  },
  {
   "cell_type": "code",
   "execution_count": null,
   "id": "4d629892",
   "metadata": {},
   "outputs": [],
   "source": []
  }
 ],
 "metadata": {
  "kernelspec": {
   "display_name": "Python 3 (ipykernel)",
   "language": "python",
   "name": "python3"
  },
  "language_info": {
   "codemirror_mode": {
    "name": "ipython",
    "version": 3
   },
   "file_extension": ".py",
   "mimetype": "text/x-python",
   "name": "python",
   "nbconvert_exporter": "python",
   "pygments_lexer": "ipython3",
   "version": "3.11.5"
  }
 },
 "nbformat": 4,
 "nbformat_minor": 5
}
